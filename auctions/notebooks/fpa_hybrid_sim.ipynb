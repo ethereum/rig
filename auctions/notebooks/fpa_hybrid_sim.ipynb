{
 "cells": [
  {
   "cell_type": "markdown",
   "metadata": {},
   "source": [
    "# First-price hybrid simulations"
   ]
  },
  {
   "cell_type": "code",
   "execution_count": 122,
   "metadata": {},
   "outputs": [],
   "source": [
    "import numpy as np\n",
    "import seaborn as sns\n",
    "import pandas as pd\n",
    "from collections import defaultdict\n",
    "from itertools import product\n",
    "rng = np.random.default_rng()"
   ]
  },
  {
   "cell_type": "markdown",
   "metadata": {},
   "source": [
    "## Main loop\n",
    "\n",
    "- `values`: Willingness-to-pay of each bidder \n",
    "- `increment`: By how much new bids must outbid the $k$-th bid\n",
    "- `transaction_cost`: Price of a transaction (USD)\n",
    "- `reserve_price`: Reserve price (USD)\n",
    "- `k`: Tickets in the auction\n",
    "- `m`: Tickets in the lottery\n",
    "- `lottery`: Boolean, represents whether bidders estimate their chances to win in the lottery when computing their expected payoff from the bid"
   ]
  },
  {
   "cell_type": "code",
   "execution_count": 124,
   "metadata": {},
   "outputs": [],
   "source": [
    "N = 200\n",
    "reserve_price = 1000\n",
    "\n",
    "def run_simulation(values, increment=10, transaction_cost=5, reserve_price=1000, k=20, m=80, lottery=False):\n",
    "    bids = {}\n",
    "    transactions_per_user = defaultdict(int)\n",
    "    last_bid = 0\n",
    "    N = len(values)\n",
    "\n",
    "    while last_bid < 200:\n",
    "        bidder = rng.integers(0, N)\n",
    "\n",
    "        if len(bids) < k:\n",
    "            if not bidder in bids:\n",
    "                # First bid of user\n",
    "                bids[bidder] = reserve_price\n",
    "                transactions_per_user[bidder] += 1\n",
    "                last_bid = 0\n",
    "            else:\n",
    "                # Opportunity to update rejected, auction not competitive yet\n",
    "                last_bid += 1\n",
    "            continue\n",
    "            \n",
    "        kth_bid = sorted(bids.values(), reverse=True)[k-1]\n",
    "\n",
    "        # Bidder is still competitive\n",
    "        if bidder in bids and kth_bid < bids[bidder]:\n",
    "            last_bid += 1\n",
    "            continue\n",
    "\n",
    "        # Auction is too competitive for the bidder\n",
    "        expected_lottery_reward = float(m) / (len(bids)-k) * (values[bidder] - reserve_price) if len(bids) > k+m else (values[bidder] - reserve_price)\n",
    "        if values[bidder] - (kth_bid + increment + transaction_cost) < lottery * expected_lottery_reward:\n",
    "            # If the bidder hasn't bid yet\n",
    "            if not bidder in bids:\n",
    "                bids[bidder] = reserve_price\n",
    "                transactions_per_user[bidder] += 1\n",
    "                last_bid = 0\n",
    "            else:\n",
    "                last_bid += 1\n",
    "            continue\n",
    "\n",
    "        # Bidder wants to remain competitive\n",
    "        bids[bidder] = kth_bid + increment\n",
    "        transactions_per_user[bidder] += 1\n",
    "        last_bid = 0\n",
    "        \n",
    "    return (bids, transactions_per_user)\n",
    "\n",
    "increments = np.arange(5, 55, 5)\n",
    "transaction_costs = np.arange(5, 55, 5)\n",
    "lotteries = [True, False]\n",
    "stats = []\n",
    "for (tx_cost, increment, lottery) in product(transaction_costs, increments, lotteries):\n",
    "    run_stats = []\n",
    "    for run in range(50):\n",
    "        values = [reserve_price + rng.pareto(2) * reserve_price / 5 for i in range(N)]\n",
    "        bids, txs_per_user = run_simulation(values, increment=increment, lottery=True)\n",
    "        single_txs = len([tx for tx in txs_per_user.values() if tx == 1])\n",
    "        max_txs = max(txs_per_user.values())\n",
    "        n_txs = sum(txs_per_user.values())\n",
    "        run_stats += [{ \"single_txs\": single_txs, \"n_txs\": n_txs, \"max_txs\": max_txs }]\n",
    "    stats += [{\n",
    "        \"tx_cost\": tx_cost, \"increment\": increment,\n",
    "        \"avg_tx_number\": np.mean([s[\"n_txs\"] for s in run_stats]),\n",
    "        \"avg_max_tx_number\": np.mean([s[\"max_txs\"] for s in run_stats]),\n",
    "        \"avg_single_txs\": np.mean([s[\"single_txs\"] for s in run_stats]),\n",
    "        \"lottery\": lottery\n",
    "    }]\n",
    "stats = pd.DataFrame(stats)"
   ]
  },
  {
   "cell_type": "code",
   "execution_count": 137,
   "metadata": {},
   "outputs": [
    {
     "data": {
      "text/html": [
       "<div>\n",
       "<style scoped>\n",
       "    .dataframe tbody tr th:only-of-type {\n",
       "        vertical-align: middle;\n",
       "    }\n",
       "\n",
       "    .dataframe tbody tr th {\n",
       "        vertical-align: top;\n",
       "    }\n",
       "\n",
       "    .dataframe thead th {\n",
       "        text-align: right;\n",
       "    }\n",
       "</style>\n",
       "<table border=\"1\" class=\"dataframe\">\n",
       "  <thead>\n",
       "    <tr style=\"text-align: right;\">\n",
       "      <th></th>\n",
       "      <th>tx_cost</th>\n",
       "      <th>increment</th>\n",
       "      <th>avg_tx_number</th>\n",
       "      <th>avg_max_tx_number</th>\n",
       "      <th>avg_single_txs</th>\n",
       "      <th>lottery</th>\n",
       "    </tr>\n",
       "  </thead>\n",
       "  <tbody>\n",
       "    <tr>\n",
       "      <th>0</th>\n",
       "      <td>5</td>\n",
       "      <td>5</td>\n",
       "      <td>1027.56</td>\n",
       "      <td>27.16</td>\n",
       "      <td>102.02</td>\n",
       "      <td>True</td>\n",
       "    </tr>\n",
       "    <tr>\n",
       "      <th>1</th>\n",
       "      <td>5</td>\n",
       "      <td>5</td>\n",
       "      <td>1095.28</td>\n",
       "      <td>28.98</td>\n",
       "      <td>100.08</td>\n",
       "      <td>False</td>\n",
       "    </tr>\n",
       "    <tr>\n",
       "      <th>2</th>\n",
       "      <td>5</td>\n",
       "      <td>10</td>\n",
       "      <td>616.06</td>\n",
       "      <td>16.04</td>\n",
       "      <td>123.94</td>\n",
       "      <td>True</td>\n",
       "    </tr>\n",
       "    <tr>\n",
       "      <th>3</th>\n",
       "      <td>5</td>\n",
       "      <td>10</td>\n",
       "      <td>628.20</td>\n",
       "      <td>16.70</td>\n",
       "      <td>123.34</td>\n",
       "      <td>False</td>\n",
       "    </tr>\n",
       "    <tr>\n",
       "      <th>4</th>\n",
       "      <td>5</td>\n",
       "      <td>15</td>\n",
       "      <td>486.24</td>\n",
       "      <td>12.38</td>\n",
       "      <td>136.32</td>\n",
       "      <td>True</td>\n",
       "    </tr>\n",
       "    <tr>\n",
       "      <th>...</th>\n",
       "      <td>...</td>\n",
       "      <td>...</td>\n",
       "      <td>...</td>\n",
       "      <td>...</td>\n",
       "      <td>...</td>\n",
       "      <td>...</td>\n",
       "    </tr>\n",
       "    <tr>\n",
       "      <th>195</th>\n",
       "      <td>50</td>\n",
       "      <td>40</td>\n",
       "      <td>303.14</td>\n",
       "      <td>6.46</td>\n",
       "      <td>159.44</td>\n",
       "      <td>False</td>\n",
       "    </tr>\n",
       "    <tr>\n",
       "      <th>196</th>\n",
       "      <td>50</td>\n",
       "      <td>45</td>\n",
       "      <td>290.32</td>\n",
       "      <td>6.14</td>\n",
       "      <td>161.94</td>\n",
       "      <td>True</td>\n",
       "    </tr>\n",
       "    <tr>\n",
       "      <th>197</th>\n",
       "      <td>50</td>\n",
       "      <td>45</td>\n",
       "      <td>289.20</td>\n",
       "      <td>6.04</td>\n",
       "      <td>162.34</td>\n",
       "      <td>False</td>\n",
       "    </tr>\n",
       "    <tr>\n",
       "      <th>198</th>\n",
       "      <td>50</td>\n",
       "      <td>50</td>\n",
       "      <td>282.06</td>\n",
       "      <td>5.72</td>\n",
       "      <td>164.82</td>\n",
       "      <td>True</td>\n",
       "    </tr>\n",
       "    <tr>\n",
       "      <th>199</th>\n",
       "      <td>50</td>\n",
       "      <td>50</td>\n",
       "      <td>283.36</td>\n",
       "      <td>5.88</td>\n",
       "      <td>163.52</td>\n",
       "      <td>False</td>\n",
       "    </tr>\n",
       "  </tbody>\n",
       "</table>\n",
       "<p>200 rows × 6 columns</p>\n",
       "</div>"
      ],
      "text/plain": [
       "     tx_cost  increment  avg_tx_number  avg_max_tx_number  avg_single_txs  \\\n",
       "0          5          5        1027.56              27.16          102.02   \n",
       "1          5          5        1095.28              28.98          100.08   \n",
       "2          5         10         616.06              16.04          123.94   \n",
       "3          5         10         628.20              16.70          123.34   \n",
       "4          5         15         486.24              12.38          136.32   \n",
       "..       ...        ...            ...                ...             ...   \n",
       "195       50         40         303.14               6.46          159.44   \n",
       "196       50         45         290.32               6.14          161.94   \n",
       "197       50         45         289.20               6.04          162.34   \n",
       "198       50         50         282.06               5.72          164.82   \n",
       "199       50         50         283.36               5.88          163.52   \n",
       "\n",
       "     lottery  \n",
       "0       True  \n",
       "1      False  \n",
       "2       True  \n",
       "3      False  \n",
       "4       True  \n",
       "..       ...  \n",
       "195    False  \n",
       "196     True  \n",
       "197    False  \n",
       "198     True  \n",
       "199    False  \n",
       "\n",
       "[200 rows x 6 columns]"
      ]
     },
     "execution_count": 137,
     "metadata": {},
     "output_type": "execute_result"
    }
   ],
   "source": [
    "pd.set_option('display.max_rows', 20)\n",
    "stats"
   ]
  },
  {
   "cell_type": "markdown",
   "metadata": {},
   "source": [
    "#### A typical `values` distribution"
   ]
  },
  {
   "cell_type": "code",
   "execution_count": 125,
   "metadata": {},
   "outputs": [
    {
     "data": {
      "text/plain": [
       "array([[<AxesSubplot:title={'center':'values'}>]], dtype=object)"
      ]
     },
     "execution_count": 125,
     "metadata": {},
     "output_type": "execute_result"
    },
    {
     "data": {
      "image/png": "[encoded data removed]",
      "text/plain": [
       "<Figure size 432x288 with 1 Axes>"
      ]
     },
     "metadata": {
      "needs_background": "light"
     },
     "output_type": "display_data"
    }
   ],
   "source": [
    "rng = np.random.default_rng(42)\n",
    "values = [reserve_price + rng.pareto(2) * reserve_price / 5 for i in range(N)]\n",
    "pd.DataFrame({ \"values\": values }).hist(bins=100)"
   ]
  },
  {
   "cell_type": "markdown",
   "metadata": {},
   "source": [
    "#### Estimated average number of transactions per increment (with and without lottery estimation)"
   ]
  },
  {
   "cell_type": "code",
   "execution_count": 136,
   "metadata": {},
   "outputs": [
    {
     "data": {
      "text/plain": [
       "<AxesSubplot:xlabel='increment', ylabel='avg_tx_number'>"
      ]
     },
     "execution_count": 136,
     "metadata": {},
     "output_type": "execute_result"
    },
    {
     "data": {
      "image/png": "[encoded data removed]",
      "text/plain": [
       "<Figure size 432x288 with 1 Axes>"
      ]
     },
     "metadata": {
      "needs_background": "light"
     },
     "output_type": "display_data"
    }
   ],
   "source": [
    "sns.lineplot(data=stats[(stats.tx_cost == 5) & (stats.lottery)], x=\"increment\", y=\"avg_tx_number\")"
   ]
  },
  {
   "cell_type": "markdown",
   "metadata": {},
   "source": [
    "#### The bids stop at (or close) to the k-th highest value!\n",
    "\n",
    "When `lottery == False`."
   ]
  },
  {
   "cell_type": "code",
   "execution_count": 148,
   "metadata": {},
   "outputs": [
    {
     "name": "stdout",
     "output_type": "stream",
     "text": [
      "k-th highest bid = 1360, k-th highest value = 1388.8708072191544\n"
     ]
    }
   ],
   "source": [
    "N = 200\n",
    "rng = np.random.default_rng(42)\n",
    "\n",
    "values = [reserve_price + rng.pareto(2) * reserve_price / 5 for i in range(N)]\n",
    "bids, txs_per_user = run_simulation(values, transaction_cost=10, increment=10, lottery=False)\n",
    "print(f\"k-th highest bid = {sorted(bids.values(), reverse=True)[k-1]}, k-th highest value = {sorted(values, reverse=True)[k-1]}\")"
   ]
  },
  {
   "cell_type": "markdown",
   "metadata": {},
   "source": [
    "When `lottery == True`, bidders discount the benefit of winning the auction by their likelihood to win the lottery, so the bids are smaller."
   ]
  },
  {
   "cell_type": "code",
   "execution_count": 149,
   "metadata": {},
   "outputs": [
    {
     "name": "stdout",
     "output_type": "stream",
     "text": [
      "k-th highest bid = 1200, k-th highest value = 1388.8708072191544\n"
     ]
    }
   ],
   "source": [
    "rng = np.random.default_rng(42)\n",
    "values = [reserve_price + rng.pareto(2) * reserve_price / 5 for i in range(N)]\n",
    "bids, txs_per_user = run_simulation(values, transaction_cost=10, increment=10, lottery=True)\n",
    "print(f\"k-th highest bid = {sorted(bids.values(), reverse=True)[k-1]}, k-th highest value = {sorted(values, reverse=True)[k-1]}\")"
   ]
  },
  {
   "cell_type": "markdown",
   "metadata": {},
   "source": [
    "#### A small calculator for transaction costs"
   ]
  },
  {
   "cell_type": "code",
   "execution_count": 143,
   "metadata": {},
   "outputs": [
    {
     "data": {
      "text/plain": [
       "12.5"
      ]
     },
     "execution_count": 143,
     "metadata": {},
     "output_type": "execute_result"
    }
   ],
   "source": [
    "gas_needed = 250000\n",
    "gas_price_gwei = 50\n",
    "eth_price = 1000\n",
    "bid_cost_eth = gas_needed * gas_price_gwei / 1e9\n",
    "bid_cost_usd = bid_cost_eth * eth_price\n",
    "bid_cost_usd"
   ]
  }
 ],
 "metadata": {
  "kernelspec": {
   "display_name": "Python 3",
   "language": "python",
   "name": "python3"
  },
  "language_info": {
   "codemirror_mode": {
    "name": "ipython",
    "version": 3
   },
   "file_extension": ".py",
   "mimetype": "text/x-python",
   "name": "python",
   "nbconvert_exporter": "python",
   "pygments_lexer": "ipython3",
   "version": "3.8.2"
  }
 },
 "nbformat": 4,
 "nbformat_minor": 4
}
