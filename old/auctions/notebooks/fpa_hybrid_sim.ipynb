{
 "cells": [
  {
   "cell_type": "markdown",
   "metadata": {},
   "source": [
    "# First-price hybrid simulations"
   ]
  },
  {
   "cell_type": "code",
   "execution_count": 181,
   "metadata": {},
   "outputs": [],
   "source": [
    "import numpy as np\n",
    "import seaborn as sns\n",
    "import pandas as pd\n",
    "from collections import defaultdict\n",
    "from itertools import product\n",
    "rng = np.random.default_rng()"
   ]
  },
  {
   "cell_type": "markdown",
   "metadata": {},
   "source": [
    "## Main loop\n",
    "\n",
    "- `values`: Willingness-to-pay of each bidder \n",
    "- `increment`: By how much new bids must outbid the $k$-th bid\n",
    "- `transaction_cost`: Price of a transaction (USD)\n",
    "- `reserve_price`: Reserve price (USD)\n",
    "- `k`: Tickets in the auction\n",
    "- `m`: Tickets in the lottery\n",
    "- `lottery`: Boolean, represents whether bidders estimate their chances to win in the lottery when computing their expected payoff from the bid"
   ]
  },
  {
   "cell_type": "code",
   "execution_count": 182,
   "metadata": {},
   "outputs": [],
   "source": [
    "def run_simulation(values, increment=10, transaction_cost=5, reserve_price=1000, k=20, m=80, lottery=False, log=False):\n",
    "    bids = {}\n",
    "    transactions_per_user = defaultdict(int)\n",
    "    last_bid = 0\n",
    "    N = len(values)\n",
    "\n",
    "    while last_bid < 2 * N:\n",
    "        bidder = rng.integers(0, N)\n",
    "\n",
    "        if len(bids) <= k:\n",
    "            if not bidder in bids:\n",
    "                # First bid of user\n",
    "                bids[bidder] = reserve_price\n",
    "                transactions_per_user[bidder] += 1\n",
    "                last_bid = 0\n",
    "                if log: print(f\"Bidder {bidder} places their first bid\", sorted(bids.items(), key=lambda x: x[0]))\n",
    "            else:\n",
    "                # Opportunity to update rejected, auction not competitive yet\n",
    "                last_bid += 1\n",
    "            continue\n",
    "            \n",
    "        kth_bid = sorted(bids.values(), reverse=True)[k-1]\n",
    "        kplus_bid = sorted(bids.values(), reverse=True)[k]\n",
    "\n",
    "        # Bidder is still competitive\n",
    "        if bidder in bids and kplus_bid < bids[bidder]:\n",
    "            if log: print(f\"Bidder {bidder} is still competitive\")\n",
    "            last_bid += 1\n",
    "            continue\n",
    "\n",
    "        # Auction is too competitive for the bidder\n",
    "        expected_lottery_reward = float(m) / (len(bids)-k) * (values[bidder] - reserve_price) if len(bids) > k+m else (values[bidder] - reserve_price)\n",
    "        if values[bidder] - (kth_bid + increment + transaction_cost) < lottery * expected_lottery_reward:\n",
    "            # If the bidder hasn't bid yet\n",
    "            if not bidder in bids:\n",
    "                bids[bidder] = reserve_price\n",
    "                transactions_per_user[bidder] += 1\n",
    "                last_bid = 0\n",
    "                if log: print(f\"Bidder {bidder} places their first bid\", sorted(bids.items(), key=lambda x: x[0]))\n",
    "            else:\n",
    "                last_bid += 1\n",
    "            continue\n",
    "\n",
    "        # Bidder wants to remain competitive\n",
    "        bids[bidder] = kth_bid + increment\n",
    "        transactions_per_user[bidder] += 1\n",
    "        last_bid = 0\n",
    "        if log: print(f\"Bidder {bidder} outbids\", sorted(bids.items(), key=lambda x: x[0]))\n",
    "        \n",
    "    return (bids, transactions_per_user)"
   ]
  },
  {
   "cell_type": "code",
   "execution_count": 183,
   "metadata": {},
   "outputs": [],
   "source": [
    "N = 200\n",
    "reserve_price = 1000\n",
    "increments = np.arange(5, 55, 5)\n",
    "transaction_costs = np.arange(5, 55, 5)\n",
    "lotteries = [True, False]\n",
    "stats = []\n",
    "for (tx_cost, increment, lottery) in product(transaction_costs, increments, lotteries):\n",
    "    run_stats = []\n",
    "    for run in range(50):\n",
    "        values = [reserve_price + rng.pareto(2) * reserve_price / 5 for i in range(N)]\n",
    "        bids, txs_per_user = run_simulation(values, increment=increment, lottery=True)\n",
    "        single_txs = len([tx for tx in txs_per_user.values() if tx == 1])\n",
    "        max_txs = max(txs_per_user.values())\n",
    "        n_txs = sum(txs_per_user.values())\n",
    "        run_stats += [{ \"single_txs\": single_txs, \"n_txs\": n_txs, \"max_txs\": max_txs }]\n",
    "    stats += [{\n",
    "        \"tx_cost\": tx_cost, \"increment\": increment,\n",
    "        \"avg_tx_number\": np.mean([s[\"n_txs\"] for s in run_stats]),\n",
    "        \"avg_max_tx_number\": np.mean([s[\"max_txs\"] for s in run_stats]),\n",
    "        \"avg_single_txs\": np.mean([s[\"single_txs\"] for s in run_stats]),\n",
    "        \"lottery\": lottery\n",
    "    }]\n",
    "stats = pd.DataFrame(stats)"
   ]
  },
  {
   "cell_type": "code",
   "execution_count": 184,
   "metadata": {},
   "outputs": [
    {
     "data": {
      "text/html": [
       "<div>\n",
       "<style scoped>\n",
       "    .dataframe tbody tr th:only-of-type {\n",
       "        vertical-align: middle;\n",
       "    }\n",
       "\n",
       "    .dataframe tbody tr th {\n",
       "        vertical-align: top;\n",
       "    }\n",
       "\n",
       "    .dataframe thead th {\n",
       "        text-align: right;\n",
       "    }\n",
       "</style>\n",
       "<table border=\"1\" class=\"dataframe\">\n",
       "  <thead>\n",
       "    <tr style=\"text-align: right;\">\n",
       "      <th></th>\n",
       "      <th>tx_cost</th>\n",
       "      <th>increment</th>\n",
       "      <th>avg_tx_number</th>\n",
       "      <th>avg_max_tx_number</th>\n",
       "      <th>avg_single_txs</th>\n",
       "      <th>lottery</th>\n",
       "    </tr>\n",
       "  </thead>\n",
       "  <tbody>\n",
       "    <tr>\n",
       "      <th>0</th>\n",
       "      <td>5</td>\n",
       "      <td>5</td>\n",
       "      <td>1077.52</td>\n",
       "      <td>28.36</td>\n",
       "      <td>101.40</td>\n",
       "      <td>True</td>\n",
       "    </tr>\n",
       "    <tr>\n",
       "      <th>1</th>\n",
       "      <td>5</td>\n",
       "      <td>5</td>\n",
       "      <td>1083.80</td>\n",
       "      <td>28.52</td>\n",
       "      <td>100.06</td>\n",
       "      <td>False</td>\n",
       "    </tr>\n",
       "    <tr>\n",
       "      <th>2</th>\n",
       "      <td>5</td>\n",
       "      <td>10</td>\n",
       "      <td>622.94</td>\n",
       "      <td>16.10</td>\n",
       "      <td>124.30</td>\n",
       "      <td>True</td>\n",
       "    </tr>\n",
       "    <tr>\n",
       "      <th>3</th>\n",
       "      <td>5</td>\n",
       "      <td>10</td>\n",
       "      <td>626.20</td>\n",
       "      <td>16.06</td>\n",
       "      <td>124.72</td>\n",
       "      <td>False</td>\n",
       "    </tr>\n",
       "    <tr>\n",
       "      <th>4</th>\n",
       "      <td>5</td>\n",
       "      <td>15</td>\n",
       "      <td>485.36</td>\n",
       "      <td>12.60</td>\n",
       "      <td>135.94</td>\n",
       "      <td>True</td>\n",
       "    </tr>\n",
       "    <tr>\n",
       "      <th>...</th>\n",
       "      <td>...</td>\n",
       "      <td>...</td>\n",
       "      <td>...</td>\n",
       "      <td>...</td>\n",
       "      <td>...</td>\n",
       "      <td>...</td>\n",
       "    </tr>\n",
       "    <tr>\n",
       "      <th>195</th>\n",
       "      <td>50</td>\n",
       "      <td>40</td>\n",
       "      <td>305.86</td>\n",
       "      <td>6.48</td>\n",
       "      <td>159.26</td>\n",
       "      <td>False</td>\n",
       "    </tr>\n",
       "    <tr>\n",
       "      <th>196</th>\n",
       "      <td>50</td>\n",
       "      <td>45</td>\n",
       "      <td>292.26</td>\n",
       "      <td>6.10</td>\n",
       "      <td>161.20</td>\n",
       "      <td>True</td>\n",
       "    </tr>\n",
       "    <tr>\n",
       "      <th>197</th>\n",
       "      <td>50</td>\n",
       "      <td>45</td>\n",
       "      <td>286.32</td>\n",
       "      <td>5.86</td>\n",
       "      <td>162.22</td>\n",
       "      <td>False</td>\n",
       "    </tr>\n",
       "    <tr>\n",
       "      <th>198</th>\n",
       "      <td>50</td>\n",
       "      <td>50</td>\n",
       "      <td>282.54</td>\n",
       "      <td>5.62</td>\n",
       "      <td>163.44</td>\n",
       "      <td>True</td>\n",
       "    </tr>\n",
       "    <tr>\n",
       "      <th>199</th>\n",
       "      <td>50</td>\n",
       "      <td>50</td>\n",
       "      <td>282.84</td>\n",
       "      <td>5.74</td>\n",
       "      <td>163.58</td>\n",
       "      <td>False</td>\n",
       "    </tr>\n",
       "  </tbody>\n",
       "</table>\n",
       "<p>200 rows × 6 columns</p>\n",
       "</div>"
      ],
      "text/plain": [
       "     tx_cost  increment  avg_tx_number  avg_max_tx_number  avg_single_txs  \\\n",
       "0          5          5        1077.52              28.36          101.40   \n",
       "1          5          5        1083.80              28.52          100.06   \n",
       "2          5         10         622.94              16.10          124.30   \n",
       "3          5         10         626.20              16.06          124.72   \n",
       "4          5         15         485.36              12.60          135.94   \n",
       "..       ...        ...            ...                ...             ...   \n",
       "195       50         40         305.86               6.48          159.26   \n",
       "196       50         45         292.26               6.10          161.20   \n",
       "197       50         45         286.32               5.86          162.22   \n",
       "198       50         50         282.54               5.62          163.44   \n",
       "199       50         50         282.84               5.74          163.58   \n",
       "\n",
       "     lottery  \n",
       "0       True  \n",
       "1      False  \n",
       "2       True  \n",
       "3      False  \n",
       "4       True  \n",
       "..       ...  \n",
       "195    False  \n",
       "196     True  \n",
       "197    False  \n",
       "198     True  \n",
       "199    False  \n",
       "\n",
       "[200 rows x 6 columns]"
      ]
     },
     "execution_count": 184,
     "metadata": {},
     "output_type": "execute_result"
    }
   ],
   "source": [
    "pd.set_option('display.max_rows', 20)\n",
    "stats"
   ]
  },
  {
   "cell_type": "markdown",
   "metadata": {},
   "source": [
    "#### A typical `values` distribution"
   ]
  },
  {
   "cell_type": "code",
   "execution_count": 185,
   "metadata": {},
   "outputs": [
    {
     "data": {
      "text/plain": [
       "array([[<AxesSubplot:title={'center':'values'}>]], dtype=object)"
      ]
     },
     "execution_count": 185,
     "metadata": {},
     "output_type": "execute_result"
    },
    {
     "data": {
      "image/png": "[encoded data removed]",
      "text/plain": [
       "<Figure size 432x288 with 1 Axes>"
      ]
     },
     "metadata": {
      "needs_background": "light"
     },
     "output_type": "display_data"
    }
   ],
   "source": [
    "rng = np.random.default_rng(42)\n",
    "values = [reserve_price + rng.pareto(2) * reserve_price / 5 for i in range(N)]\n",
    "pd.DataFrame({ \"values\": values }).hist(bins=100)"
   ]
  },
  {
   "cell_type": "markdown",
   "metadata": {},
   "source": [
    "#### Estimated average number of transactions per increment (with and without lottery estimation)"
   ]
  },
  {
   "cell_type": "code",
   "execution_count": 186,
   "metadata": {},
   "outputs": [
    {
     "data": {
      "text/plain": [
       "<AxesSubplot:xlabel='increment', ylabel='avg_tx_number'>"
      ]
     },
     "execution_count": 186,
     "metadata": {},
     "output_type": "execute_result"
    },
    {
     "data": {
      "image/png": "[encoded data removed]",
      "text/plain": [
       "<Figure size 432x288 with 1 Axes>"
      ]
     },
     "metadata": {
      "needs_background": "light"
     },
     "output_type": "display_data"
    }
   ],
   "source": [
    "sns.lineplot(data=stats[(stats.tx_cost == 5) & (stats.lottery)], x=\"increment\", y=\"avg_tx_number\")"
   ]
  },
  {
   "cell_type": "markdown",
   "metadata": {},
   "source": [
    "#### The bids stop at (or close) to the (k+1)-th highest value!\n",
    "\n",
    "When `lottery == False`."
   ]
  },
  {
   "cell_type": "code",
   "execution_count": 187,
   "metadata": {},
   "outputs": [
    {
     "name": "stdout",
     "output_type": "stream",
     "text": [
      "k-th highest bid = 1370, (k+1)-th highest value = 1384.5112678643395\n"
     ]
    }
   ],
   "source": [
    "N = 200\n",
    "rng = np.random.default_rng(42)\n",
    "\n",
    "values = [reserve_price + rng.pareto(2) * reserve_price / 5 for i in range(N)]\n",
    "bids, txs_per_user = run_simulation(values, transaction_cost=10, increment=10, lottery=False)\n",
    "print(f\"k-th highest bid = {sorted(bids.values(), reverse=True)[k-1]}, (k+1)-th highest value = {sorted(values, reverse=True)[k]}\")"
   ]
  },
  {
   "cell_type": "markdown",
   "metadata": {},
   "source": [
    "When `lottery == True`, bidders discount the benefit of winning the auction by their likelihood to win the lottery, so the bids are smaller."
   ]
  },
  {
   "cell_type": "code",
   "execution_count": 188,
   "metadata": {},
   "outputs": [
    {
     "name": "stdout",
     "output_type": "stream",
     "text": [
      "k-th highest bid = 1200, (k+1)-th highest value = 1384.5112678643395\n"
     ]
    }
   ],
   "source": [
    "rng = np.random.default_rng(42)\n",
    "values = [reserve_price + rng.pareto(2) * reserve_price / 5 for i in range(N)]\n",
    "bids, txs_per_user = run_simulation(values, transaction_cost=10, increment=10, lottery=True)\n",
    "print(f\"k-th highest bid = {sorted(bids.values(), reverse=True)[k-1]}, (k+1)-th highest value = {sorted(values, reverse=True)[k]}\")"
   ]
  },
  {
   "cell_type": "code",
   "execution_count": 189,
   "metadata": {},
   "outputs": [
    {
     "name": "stdout",
     "output_type": "stream",
     "text": [
      "[1210, 1210, 1210, 1210, 1210, 1210, 1210, 1210, 1210, 1210, 1210, 1210, 1210, 1210, 1210, 1210, 1210, 1210, 1210, 1200, 1200, 1200, 1200, 1190, 1190, 1180, 1180, 1160, 1160, 1150, 1150, 1140, 1130, 1130, 1120, 1110, 1110, 1110, 1100, 1100, 1100, 1090, 1090, 1090, 1090, 1080, 1080, 1080, 1080, 1070, 1070, 1070, 1070, 1070, 1070, 1060, 1060, 1060, 1060, 1060, 1060, 1060, 1050, 1050, 1050, 1050, 1040, 1040, 1040, 1040, 1040, 1030, 1030, 1030, 1030, 1030, 1020, 1020, 1020, 1010, 1010, 1010, 1010, 1010, 1010, 1000, 1000, 1000, 1000, 1000, 1000, 1000, 1000, 1000, 1000, 1000, 1000, 1000, 1000, 1000, 1000, 1000, 1000, 1000, 1000, 1000, 1000, 1000, 1000, 1000, 1000, 1000, 1000, 1000, 1000, 1000, 1000, 1000, 1000, 1000, 1000, 1000, 1000, 1000, 1000, 1000, 1000, 1000, 1000, 1000, 1000, 1000, 1000, 1000, 1000, 1000, 1000, 1000, 1000, 1000, 1000, 1000, 1000, 1000, 1000, 1000, 1000, 1000, 1000, 1000, 1000, 1000, 1000, 1000, 1000, 1000, 1000, 1000, 1000, 1000, 1000, 1000, 1000, 1000, 1000, 1000, 1000, 1000, 1000, 1000, 1000, 1000, 1000, 1000, 1000, 1000, 1000, 1000, 1000, 1000, 1000, 1000, 1000, 1000, 1000, 1000, 1000, 1000, 1000, 1000, 1000, 1000, 1000, 1000, 1000, 1000, 1000, 1000, 1000, 1000]\n"
     ]
    }
   ],
   "source": [
    "print(sorted(bids.values(), reverse=True))"
   ]
  },
  {
   "cell_type": "code",
   "execution_count": 190,
   "metadata": {},
   "outputs": [
    {
     "name": "stdout",
     "output_type": "stream",
     "text": [
      "[2136.3946374918605, 1048.0714339360236, 1810.7187271382188]\n",
      "Bidder 2 places their first bid [(2, 1000)]\n",
      "Bidder 0 places their first bid [(0, 1000), (2, 1000)]\n",
      "Bidder 1 places their first bid [(0, 1000), (1, 1000), (2, 1000)]\n",
      "Bidder 1 outbids [(0, 1000), (1, 1010), (2, 1000)]\n",
      "Bidder 0 outbids [(0, 1010), (1, 1010), (2, 1000)]\n",
      "Bidder 1 is still competitive\n",
      "Bidder 1 is still competitive\n",
      "Bidder 2 outbids [(0, 1010), (1, 1010), (2, 1020)]\n",
      "Bidder 1 outbids [(0, 1010), (1, 1020), (2, 1020)]\n",
      "Bidder 0 outbids [(0, 1030), (1, 1020), (2, 1020)]\n",
      "Bidder 2 outbids [(0, 1030), (1, 1020), (2, 1030)]\n",
      "Bidder 2 is still competitive\n",
      "Bidder 0 is still competitive\n",
      "Bidder 1 outbids [(0, 1030), (1, 1040), (2, 1030)]\n",
      "Bidder 1 is still competitive\n",
      "Bidder 2 outbids [(0, 1030), (1, 1040), (2, 1040)]\n",
      "Bidder 0 outbids [(0, 1050), (1, 1040), (2, 1040)]\n",
      "Bidder 2 outbids [(0, 1050), (1, 1040), (2, 1050)]\n",
      "Bidder 0 is still competitive\n",
      "Bidder 2 is still competitive\n",
      "Bidder 2 is still competitive\n",
      "Bidder 2 is still competitive\n",
      "Bidder 2 is still competitive\n"
     ]
    },
    {
     "data": {
      "text/plain": [
       "({2: 1050, 0: 1050, 1: 1040}, defaultdict(int, {2: 5, 0: 4, 1: 4}))"
      ]
     },
     "execution_count": 190,
     "metadata": {},
     "output_type": "execute_result"
    }
   ],
   "source": [
    "N = 3\n",
    "rng = np.random.default_rng(4)\n",
    "values = [reserve_price + rng.pareto(2) * reserve_price / 5 for i in range(N)]\n",
    "print(values)\n",
    "run_simulation(values, transaction_cost=5, increment=10, lottery=False, k = 2, m = 0, log=True)"
   ]
  },
  {
   "cell_type": "markdown",
   "metadata": {},
   "source": [
    "#### A small calculator for transaction costs"
   ]
  },
  {
   "cell_type": "code",
   "execution_count": 191,
   "metadata": {},
   "outputs": [
    {
     "data": {
      "text/plain": [
       "12.5"
      ]
     },
     "execution_count": 191,
     "metadata": {},
     "output_type": "execute_result"
    }
   ],
   "source": [
    "gas_needed = 250000\n",
    "gas_price_gwei = 50\n",
    "eth_price = 1000\n",
    "bid_cost_eth = gas_needed * gas_price_gwei / 1e9\n",
    "bid_cost_usd = bid_cost_eth * eth_price\n",
    "bid_cost_usd"
   ]
  }
 ],
 "metadata": {
  "kernelspec": {
   "display_name": "Python 3",
   "language": "python",
   "name": "python3"
  },
  "language_info": {
   "codemirror_mode": {
    "name": "ipython",
    "version": 3
   },
   "file_extension": ".py",
   "mimetype": "text/x-python",
   "name": "python",
   "nbconvert_exporter": "python",
   "pygments_lexer": "ipython3",
   "version": "3.9.1"
  }
 },
 "nbformat": 4,
 "nbformat_minor": 4
}
